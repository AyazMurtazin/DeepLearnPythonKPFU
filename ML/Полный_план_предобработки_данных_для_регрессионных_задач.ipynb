{
  "nbformat": 4,
  "nbformat_minor": 0,
  "metadata": {
    "colab": {
      "private_outputs": true,
      "provenance": [],
      "include_colab_link": true
    },
    "kernelspec": {
      "name": "python3",
      "display_name": "Python 3"
    },
    "language_info": {
      "name": "python"
    }
  },
  "cells": [
    {
      "cell_type": "markdown",
      "metadata": {
        "id": "view-in-github",
        "colab_type": "text"
      },
      "source": [
        "<a href=\"https://colab.research.google.com/github/AyazMurtazin/DeepLearnPythonKPFU/blob/main/ML/%D0%9F%D0%BE%D0%BB%D0%BD%D1%8B%D0%B9_%D0%BF%D0%BB%D0%B0%D0%BD_%D0%BF%D1%80%D0%B5%D0%B4%D0%BE%D0%B1%D1%80%D0%B0%D0%B1%D0%BE%D1%82%D0%BA%D0%B8_%D0%B4%D0%B0%D0%BD%D0%BD%D1%8B%D1%85_%D0%B4%D0%BB%D1%8F_%D1%80%D0%B5%D0%B3%D1%80%D0%B5%D1%81%D1%81%D0%B8%D0%BE%D0%BD%D0%BD%D1%8B%D1%85_%D0%B7%D0%B0%D0%B4%D0%B0%D1%87.ipynb\" target=\"_parent\"><img src=\"https://colab.research.google.com/assets/colab-badge.svg\" alt=\"Open In Colab\"/></a>"
      ]
    },
    {
      "cell_type": "markdown",
      "source": [
        "\n",
        "### **Полный план предобработки данных для регрессионных задач**\n"
      ],
      "metadata": {
        "id": "gjJ4OQ_lmV4x"
      }
    },
    {
      "cell_type": "markdown",
      "source": [
        "DATA SOURCE https://www.kaggle.com/datasets/stealthtechnologies/regression-dataset-for-household-income-analysis"
      ],
      "metadata": {
        "id": "FnZiRL2BD17t"
      }
    },
    {
      "cell_type": "code",
      "source": [
        "import pandas as pd\n",
        "import seaborn as sns\n",
        "import numpy as np"
      ],
      "metadata": {
        "id": "p_If-KyyAYtn"
      },
      "execution_count": null,
      "outputs": []
    },
    {
      "cell_type": "code",
      "source": [
        "# Install dependencies as needed:\n",
        "# !pip install kagglehub[pandas-datasets]\n",
        "import kagglehub\n",
        "from kagglehub import KaggleDatasetAdapter\n",
        "\n",
        "# Set the path to the file you'd like to load\n",
        "file_path = \"data.csv\"\n",
        "\n",
        "# Load the latest version\n",
        "df = kagglehub.load_dataset(\n",
        "  KaggleDatasetAdapter.PANDAS,\n",
        "  \"stealthtechnologies/regression-dataset-for-household-income-analysis\",\n",
        "  file_path,\n",
        "  # Provide any additional arguments like\n",
        "  # sql_query or pandas_kwargs. See the\n",
        "  # documenation for more information:\n",
        "  # https://github.com/Kaggle/kagglehub/blob/main/README.md#kaggledatasetadapterpandas\n",
        ")\n",
        "\n",
        "print(\"First 5 records:\", df.head())"
      ],
      "metadata": {
        "id": "jK46hDkB9HrQ"
      },
      "execution_count": null,
      "outputs": []
    },
    {
      "cell_type": "markdown",
      "source": [
        "#### **1. Первичный анализ данных**\n"
      ],
      "metadata": {
        "id": "nj7sKk1o8lCy"
      }
    },
    {
      "cell_type": "markdown",
      "source": [
        "- Проверить размер данных (`df.shape`).\n"
      ],
      "metadata": {
        "id": "2epC1MsxBKcn"
      }
    },
    {
      "cell_type": "code",
      "source": [
        "df.shape"
      ],
      "metadata": {
        "id": "A5jiJc9TBpTY"
      },
      "execution_count": null,
      "outputs": []
    },
    {
      "cell_type": "markdown",
      "source": [
        "- Определить типы признаков (`df.dtypes`).\n"
      ],
      "metadata": {
        "id": "8lONgoWdBL22"
      }
    },
    {
      "cell_type": "code",
      "source": [
        "df.dtypes"
      ],
      "metadata": {
        "id": "_1qYjQTcBp6f"
      },
      "execution_count": null,
      "outputs": []
    },
    {
      "cell_type": "markdown",
      "source": [
        "- Проверка на дубликаты (`df.duplicated().sum()`).\n"
      ],
      "metadata": {
        "id": "1A0hxiAiBN42"
      }
    },
    {
      "cell_type": "code",
      "source": [
        "df.duplicated().sum()"
      ],
      "metadata": {
        "id": "lr8nC82kBqh7"
      },
      "execution_count": null,
      "outputs": []
    },
    {
      "cell_type": "markdown",
      "source": [
        "- Анализ уникальных значений для категориальных признаков (`df[column].nunique()`).\n"
      ],
      "metadata": {
        "id": "swKHAMeLBPD3"
      }
    },
    {
      "cell_type": "code",
      "source": [
        "for col in df.columns:\n",
        "  print(col, '\\t' ,df[col].nunique() , '\\t', df[col].unique())"
      ],
      "metadata": {
        "id": "Z_wmiEogBrK8"
      },
      "execution_count": null,
      "outputs": []
    },
    {
      "cell_type": "markdown",
      "source": [
        "- Анализ целевой переменной:\n"
      ],
      "metadata": {
        "id": "5uRk9w30BQbN"
      }
    },
    {
      "cell_type": "markdown",
      "source": [
        "  - Распределение (гистограмма, `sns.histplot` или `sns.kdeplot`).\n"
      ],
      "metadata": {
        "id": "frf6DXe4DBj-"
      }
    },
    {
      "cell_type": "code",
      "source": [
        "sns.histplot(df.select_dtypes(include=np.number))\n"
      ],
      "metadata": {
        "id": "CYoHG0w8DKz8"
      },
      "execution_count": null,
      "outputs": []
    },
    {
      "cell_type": "markdown",
      "source": [
        "  - Выбросы (боксплот, `sns.boxplot`).\n"
      ],
      "metadata": {
        "id": "-CKLQzoYDGNa"
      }
    },
    {
      "cell_type": "markdown",
      "source": [
        "  - Визуализация взаимосвязи между признаками и целевой переменной (`sns.pairplot`, `sns.scatterplot`).\n"
      ],
      "metadata": {
        "id": "rYcvhEPcDHxu"
      }
    },
    {
      "cell_type": "code",
      "source": [],
      "metadata": {
        "id": "YgrOHfmqBsIO"
      },
      "execution_count": null,
      "outputs": []
    },
    {
      "cell_type": "markdown",
      "source": [
        "- **Корреляционный анализ**:\n",
        "  - Визуализация матрицы корреляции между числовыми признаками (`sns.heatmap(df.corr(), annot=True)`).\n",
        "  - Проверка мультиколлинеарности с помощью VIF (Variance Inflation Factor).\n"
      ],
      "metadata": {
        "id": "hhn4b68MBSsx"
      }
    },
    {
      "cell_type": "markdown",
      "source": [
        "- Проверить дисбаланс данных.\n",
        "\n"
      ],
      "metadata": {
        "id": "3Z90wEW9BUii"
      }
    },
    {
      "cell_type": "markdown",
      "source": [
        "---\n"
      ],
      "metadata": {
        "id": "gxzNXpAEBXpe"
      }
    },
    {
      "cell_type": "markdown",
      "source": [
        "\n",
        "#### **2. Обработка пропущенных значений**\n",
        "- Анализ количества пропусков (`df.isnull().sum()`).\n",
        "- Разделение на типы пропусков: случайные или систематические (например, через визуализацию).\n",
        "- Для **числовых признаков**:\n",
        "  - Заполнение средним/медианным значением.\n",
        "  - Интерполяция для временных рядов.\n",
        "  - Использование KNNImputer из `sklearn.impute`.\n",
        "- Для **категориальных признаков**:\n",
        "  - Заполнение модой.\n",
        "  - Создание категории \"Unknown\".\n",
        "  - Frequency Encoding (кодирование частотой встречаемости категории).\n",
        "- Удаление столбцов с >50% пропусков.\n",
        "- Удаление строк с пропусками (если мало).\n",
        "- Создание индикаторных признаков для обозначения пропусков (например, `df['is_missing'] = df['column'].isnull().astype(int)`).\n",
        "\n",
        "---\n",
        "\n"
      ],
      "metadata": {
        "id": "hi965Z6F8w7Y"
      }
    },
    {
      "cell_type": "markdown",
      "source": [
        "#### **3. Обработка выбросов**\n",
        "- Визуальный анализ (`sns.boxplot`, `sns.scatterplot`).\n",
        "- Методы обработки:\n",
        "  - **IQR-метод**: удаление значений за пределами [Q1 - 1.5*IQR; Q3 + 1.5*IQR].\n",
        "  - **Z-score**: удаление значений с |Z| > 3.\n",
        "  - Логарифмирование для право-скошенных данных.\n",
        "  - Квантильное преобразование (`sklearn.preprocessing.QuantileTransformer`).\n",
        "- Учёт контекста задачи: иногда выбросы могут быть важными сигналами.\n",
        "- Использование методов, устойчивых к выбросам (например, модели на основе деревьев решений).\n",
        "- Проверка влияния выбросов на качество модели (например, сравнение метрик с удалением и без удаления выбросов).\n",
        "\n",
        "---\n",
        "\n"
      ],
      "metadata": {
        "id": "PAK5DWpK80mA"
      }
    },
    {
      "cell_type": "markdown",
      "source": [
        "#### **4. Преобразование категориальных признаков**\n",
        "- **Label Encoding** для порядковых данных.\n",
        "- **One-Hot Encoding** для номинальных данных (с `drop_first=True` для уменьшения мультиколлинеарности).\n",
        "- **Target Encoding** для категорий с большим количеством уникальных значений.\n",
        "- Учёт количества уникальных значений: объединение редких категорий в одну (\"Other\").\n",
        "- Frequency Encoding (кодирование частотой встречаемости категории).\n",
        "\n",
        "---\n",
        "\n"
      ],
      "metadata": {
        "id": "Ekq0DmpZ81pp"
      }
    },
    {
      "cell_type": "markdown",
      "source": [
        "#### **5. Обработка числовых признаков**\n",
        "- **Масштабирование**:\n",
        "  - `StandardScaler` (стандартизация).\n",
        "  - `MinMaxScaler` (нормализация).\n",
        "  - `RobustScaler` (при наличии выбросов).\n",
        "- **Преобразование распределения**:\n",
        "  - Логарифмирование.\n",
        "  - Квантильное преобразование.\n",
        "  - Преобразование Бокса-Кокса.\n",
        "- **Статистические тесты**:\n",
        "  - Проверка на нормальность распределения (например, тест Шапиро-Уилка или Колмогорова-Смирнова).\n",
        "  - Проверка гипотез о равенстве средних (например, t-тест или U-тест Манна-Уитни для сравнения групп).\n",
        "- Учёт масштабирования для моделей, чувствительных к единицам измерения (например, SVM, KNN, линейная регрессия).\n",
        "\n",
        "---\n",
        "\n"
      ],
      "metadata": {
        "id": "jTXCpEcX82y4"
      }
    },
    {
      "cell_type": "markdown",
      "source": [
        "#### **6. Feature Engineering**\n",
        "- Создание новых признаков:\n",
        "  - Взаимодействия признаков (умножение, деление, соотношение).\n",
        "  - Полиномиальные признаки (`sklearn.preprocessing.PolynomialFeatures`).\n",
        "  - Групповые статистики (среднее, медиана по группам).\n",
        "- Для временных данных:\n",
        "  - Извлечение дня, месяца, года.\n",
        "  - Создание лагов и скользящих статистик.\n",
        "  - Добавление бинарных флагов (например, выходной/будний день, сезон).\n",
        "- Генерация бинарных признаков (например, флаги \"больше/меньше определённого значения\").\n",
        "\n",
        "---\n",
        "\n"
      ],
      "metadata": {
        "id": "ajWT8Emr84nu"
      }
    },
    {
      "cell_type": "markdown",
      "source": [
        "#### **7. Отбор признаков**\n",
        "- Удаление коррелирующих признаков (`df.corr()`).\n",
        "- **Проверка мультиколлинеарности с помощью VIF**:\n",
        "  - Вычисление VIF для каждого числового признака.\n",
        "  - Удаление признаков с высоким VIF (>10 обычно считается порогом).\n",
        "- Отбор с помощью:\n",
        "  - `SelectKBest` (по ANOVA F-value).\n",
        "  - Методом рекурсивного исключения (`RFE`).\n",
        "  - Важности признаков из моделей (Random Forest, XGBoost).\n",
        "  - SHAP-значений для анализа важности признаков.\n",
        "- Учёт интерпретируемости модели при выборе признаков.\n",
        "\n",
        "---\n",
        "\n"
      ],
      "metadata": {
        "id": "5mmJ5_DA86QQ"
      }
    },
    {
      "cell_type": "markdown",
      "source": [
        "#### **8. Разделение данных**\n",
        "- `train_test_split` (стратифицированное, если нужно).\n",
        "- Проверка на утечку данных (data leakage): признаки не должны зависеть от целевой переменной в тестовой выборке.\n",
        "- Стратификация по нескольким признакам (если применимо).\n",
        "- Для временных рядов — хронологическое разделение.\n",
        "\n",
        "---\n",
        "\n"
      ],
      "metadata": {
        "id": "y81F4aQn88GS"
      }
    },
    {
      "cell_type": "markdown",
      "source": [
        "#### **9. Дополнительные шаги (опционально)**\n",
        "- **PCA** или **t-SNE** для уменьшения размерности.\n",
        "- **LDA** (Linear Discriminant Analysis) для регрессии.\n",
        "- **Балансировка данных** (если целевая переменная неравномерна).\n",
        "- **Кросс-валидация** для настройки предобработки (`Pipeline` + `GridSearchCV`).\n",
        "- Настройка гиперпараметров трансформеров (например, степень полиномиальных признаков).\n",
        "\n",
        "---\n",
        "\n"
      ],
      "metadata": {
        "id": "-O_K7H3g899G"
      }
    },
    {
      "cell_type": "markdown",
      "source": [
        "#### **10. Финализация**\n",
        "- Сохранение предобработанных данных (`to_csv`, `to_pickle`).\n",
        "- Экспорт трансформеров (`pickle`, `joblib`).\n",
        "- Сохранение конфигурации предобработки (например, параметры трансформеров) для воспроизводимости.\n",
        "- Проверка совместимости предобработанных данных с моделью (например, отсутствие NaN или Inf).\n",
        "- Тестирование конвейера на новых данных (например, проверка работы Pipeline на отложенной выборке).\n",
        "\n",
        "---\n",
        "\n"
      ],
      "metadata": {
        "id": "xsbBt9Xm8_78"
      }
    },
    {
      "cell_type": "markdown",
      "source": [
        "### **Дополнительные разделы: Статистический анализ и проверка гипотез**\n",
        "\n"
      ],
      "metadata": {
        "id": "0618nTS69Bn1"
      }
    },
    {
      "cell_type": "markdown",
      "source": [
        "#### **11. Статистический анализ**\n",
        "- **Тесты на нормальность**:\n",
        "  - Тест Шапиро-Уилка (`scipy.stats.shapiro`).\n",
        "  - Тест Колмогорова-Смирнова (`scipy.stats.kstest`).\n",
        "  - Визуализация QQ-графика (`statsmodels.api.qqplot`).\n",
        "- **Тесты на гомоскедастичность** (равенство дисперсий):\n",
        "  - Тест Бройша-Пагана (`statsmodels.stats.diagnostic.het_breuschpagan`).\n",
        "  - Тест Уайта (`statsmodels.stats.diagnostic.het_white`).\n",
        "- **Тесты на линейную зависимость**:\n",
        "  - Корреляция Пирсона для линейных связей.\n",
        "  - Корреляция Спирмена для монотонных связей.\n",
        "  - Корреляция Кендалла для порядковых данных.\n",
        "\n"
      ],
      "metadata": {
        "id": "c-fkZR5a9C6z"
      }
    },
    {
      "cell_type": "markdown",
      "source": [
        "#### **12. Проверка гипотез**\n",
        "- **Гипотеза о равенстве средних**:\n",
        "  - t-тест для нормально распределённых данных.\n",
        "  - U-тест Манна-Уитни для непараметрических данных.\n",
        "- **Гипотеза о равенстве распределений**:\n",
        "  - Критерий Колмогорова-Смирнова.\n",
        "  - Критерий хи-квадрат для категориальных данных.\n",
        "- **Анализ влияния категориальных признаков**:\n",
        "  - ANOVA (для проверки влияния категориальных признаков на числовую целевую переменную).\n",
        "  - Критерий Краскела-Уоллиса (непараметрический аналог ANOVA).\n"
      ],
      "metadata": {
        "id": "k0v-MwkA9EFn"
      }
    }
  ]
}