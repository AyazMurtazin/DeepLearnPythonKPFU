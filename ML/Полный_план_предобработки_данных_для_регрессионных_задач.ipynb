{
  "nbformat": 4,
  "nbformat_minor": 0,
  "metadata": {
    "colab": {
      "private_outputs": true,
      "provenance": [],
      "include_colab_link": true
    },
    "kernelspec": {
      "name": "python3",
      "display_name": "Python 3"
    },
    "language_info": {
      "name": "python"
    }
  },
  "cells": [
    {
      "cell_type": "markdown",
      "metadata": {
        "id": "view-in-github",
        "colab_type": "text"
      },
      "source": [
        "<a href=\"https://colab.research.google.com/github/AyazMurtazin/DeepLearnPythonKPFU/blob/main/ML/%D0%9F%D0%BE%D0%BB%D0%BD%D1%8B%D0%B9_%D0%BF%D0%BB%D0%B0%D0%BD_%D0%BF%D1%80%D0%B5%D0%B4%D0%BE%D0%B1%D1%80%D0%B0%D0%B1%D0%BE%D1%82%D0%BA%D0%B8_%D0%B4%D0%B0%D0%BD%D0%BD%D1%8B%D1%85_%D0%B4%D0%BB%D1%8F_%D1%80%D0%B5%D0%B3%D1%80%D0%B5%D1%81%D1%81%D0%B8%D0%BE%D0%BD%D0%BD%D1%8B%D1%85_%D0%B7%D0%B0%D0%B4%D0%B0%D1%87.ipynb\" target=\"_parent\"><img src=\"https://colab.research.google.com/assets/colab-badge.svg\" alt=\"Open In Colab\"/></a>"
      ]
    },
    {
      "cell_type": "markdown",
      "source": [
        "\n",
        "### **Полный план предобработки данных для регрессионных задач**\n"
      ],
      "metadata": {
        "id": "gjJ4OQ_lmV4x"
      }
    },
    {
      "cell_type": "markdown",
      "source": [
        "DATA SOURCE https://www.kaggle.com/datasets/stealthtechnologies/regression-dataset-for-household-income-analysis"
      ],
      "metadata": {
        "id": "FnZiRL2BD17t"
      }
    },
    {
      "cell_type": "code",
      "source": [
        "import pandas as pd\n",
        "import seaborn as sns\n",
        "import numpy as np"
      ],
      "metadata": {
        "id": "p_If-KyyAYtn"
      },
      "execution_count": null,
      "outputs": []
    },
    {
      "cell_type": "markdown",
      "source": [],
      "metadata": {
        "id": "MRnmVk8NFH9U"
      }
    },
    {
      "cell_type": "code",
      "source": [
        "# Install dependencies as needed:\n",
        "# !pip install kagglehub[pandas-datasets]\n",
        "import kagglehub\n",
        "from kagglehub import KaggleDatasetAdapter\n",
        "\n",
        "# Set the path to the file you'd like to load\n",
        "file_path = \"data.csv\"\n",
        "\n",
        "# Load the latest version\n",
        "df = kagglehub.load_dataset(\n",
        "  KaggleDatasetAdapter.PANDAS,\n",
        "  \"stealthtechnologies/regression-dataset-for-household-income-analysis\",\n",
        "  file_path,\n",
        "  # Provide any additional arguments like\n",
        "  # sql_query or pandas_kwargs. See the\n",
        "  # documenation for more information:\n",
        "  # https://github.com/Kaggle/kagglehub/blob/main/README.md#kaggledatasetadapterpandas\n",
        ")\n",
        "\n",
        "print(\"First 5 records:\", df.head())"
      ],
      "metadata": {
        "id": "jK46hDkB9HrQ"
      },
      "execution_count": null,
      "outputs": []
    },
    {
      "cell_type": "markdown",
      "source": [
        "#### **1. Первичный анализ данных**\n"
      ],
      "metadata": {
        "id": "nj7sKk1o8lCy"
      }
    },
    {
      "cell_type": "markdown",
      "source": [
        "- Проверить размер данных (`df.shape`).\n"
      ],
      "metadata": {
        "id": "2epC1MsxBKcn"
      }
    },
    {
      "cell_type": "code",
      "source": [
        "df.shape"
      ],
      "metadata": {
        "id": "A5jiJc9TBpTY"
      },
      "execution_count": null,
      "outputs": []
    },
    {
      "cell_type": "markdown",
      "source": [
        "- Определить типы признаков (`df.dtypes`).\n"
      ],
      "metadata": {
        "id": "8lONgoWdBL22"
      }
    },
    {
      "cell_type": "code",
      "source": [
        "df.dtypes"
      ],
      "metadata": {
        "id": "_1qYjQTcBp6f"
      },
      "execution_count": null,
      "outputs": []
    },
    {
      "cell_type": "markdown",
      "source": [
        "- Проверка на дубликаты (`df.duplicated().sum()`).\n"
      ],
      "metadata": {
        "id": "1A0hxiAiBN42"
      }
    },
    {
      "cell_type": "code",
      "source": [
        "df.duplicated().sum()"
      ],
      "metadata": {
        "id": "lr8nC82kBqh7"
      },
      "execution_count": null,
      "outputs": []
    },
    {
      "cell_type": "markdown",
      "source": [
        "- Анализ уникальных значений для категориальных признаков (`df[column].nunique()`).\n"
      ],
      "metadata": {
        "id": "swKHAMeLBPD3"
      }
    },
    {
      "cell_type": "code",
      "source": [
        "for col in df.columns:\n",
        "  print(col, '\\t' ,df[col].nunique() , '\\t', df[col].unique())"
      ],
      "metadata": {
        "id": "Z_wmiEogBrK8"
      },
      "execution_count": null,
      "outputs": []
    },
    {
      "cell_type": "markdown",
      "source": [
        "- Анализ целевой переменной:\n"
      ],
      "metadata": {
        "id": "5uRk9w30BQbN"
      }
    },
    {
      "cell_type": "markdown",
      "source": [
        "  - Распределение (гистограмма, `sns.histplot` или `sns.kdeplot`).\n"
      ],
      "metadata": {
        "id": "frf6DXe4DBj-"
      }
    },
    {
      "cell_type": "code",
      "source": [
        "import matplotlib.pyplot as plt\n",
        "n_cols = 2\n",
        "n_rows = df.shape[1] // n_cols + (1 if (df.shape[1] % n_cols != 0) else 0)\n",
        "\n",
        "fig, axes = plt.subplots(nrows=n_rows, ncols=n_cols, figsize=(10, 10), layout = 'constrained')\n",
        "for i, column in enumerate(df):\n",
        "    sns.histplot(df[column], ax=axes[i // n_cols, i % n_cols]).set_title(column)"
      ],
      "metadata": {
        "id": "r6m_VU_SPcvS"
      },
      "execution_count": null,
      "outputs": []
    },
    {
      "cell_type": "markdown",
      "source": [
        "  - Выбросы (боксплот, `sns.boxplot`).\n"
      ],
      "metadata": {
        "id": "-CKLQzoYDGNa"
      }
    },
    {
      "cell_type": "code",
      "source": [
        "fig, axes = plt.subplots(nrows=n_rows, ncols=n_cols, figsize=(5, 15), layout = 'constrained')\n",
        "for i, column in enumerate(df):\n",
        "    sns.boxplot(df[column], ax=axes[i // n_cols, i % n_cols]).set_title(column)"
      ],
      "metadata": {
        "id": "eyTaV5AVFOxM"
      },
      "execution_count": null,
      "outputs": []
    },
    {
      "cell_type": "markdown",
      "source": [
        "  - Визуализация взаимосвязи между признаками и целевой переменной (`sns.pairplot`, `sns.scatterplot`).\n"
      ],
      "metadata": {
        "id": "rYcvhEPcDHxu"
      }
    },
    {
      "cell_type": "code",
      "source": [
        "sns.pairplot(data = df, x_vars = df.columns, y_vars = ['Income'], )"
      ],
      "metadata": {
        "id": "YgrOHfmqBsIO"
      },
      "execution_count": null,
      "outputs": []
    },
    {
      "cell_type": "code",
      "source": [
        "\n",
        "fig, axes = plt.subplots(nrows=n_rows, ncols=n_cols, figsize=(5, 15), layout = 'constrained')\n",
        "for i, column in enumerate(df):\n",
        "    sns.scatterplot(data = df, x = column, y = 'Income',ax=axes[i // n_cols, i % n_cols], marker=\"+\").set_title(column)"
      ],
      "metadata": {
        "id": "pkutc5nLTNL1"
      },
      "execution_count": null,
      "outputs": []
    },
    {
      "cell_type": "markdown",
      "source": [
        "- **Корреляционный анализ**:\n",
        "  - Визуализация матрицы корреляции между числовыми признаками (`sns.heatmap(df.corr(), annot=True)`).\n",
        "  "
      ],
      "metadata": {
        "id": "hhn4b68MBSsx"
      }
    },
    {
      "cell_type": "code",
      "source": [
        "sns.heatmap(df.select_dtypes(include='number').corr(), annot=True,)"
      ],
      "metadata": {
        "id": "LtrPZvLWVo6X"
      },
      "execution_count": null,
      "outputs": []
    },
    {
      "cell_type": "markdown",
      "source": [
        "-\n",
        "  - Проверка мультиколлинеарности с помощью VIF (Variance Inflation Factor).\n"
      ],
      "metadata": {
        "id": "7RUDK9JNVoC3"
      }
    },
    {
      "cell_type": "code",
      "source": [
        "import pandas as pd\n",
        "from statsmodels.stats.outliers_influence import variance_inflation_factor\n",
        "from statsmodels.tools.tools import add_constant\n",
        "\n",
        "data_with_const = add_constant(df.select_dtypes(include='number'))\n",
        "vif = pd.DataFrame()\n",
        "vif[\"Variable\"] = data_with_const.columns\n",
        "vif[\"VIF\"] = [variance_inflation_factor(data_with_const.values, i) for i in range(data_with_const.shape[1])]\n",
        "\n",
        "print(vif)"
      ],
      "metadata": {
        "id": "ueBpIvnVWf3H"
      },
      "execution_count": null,
      "outputs": []
    },
    {
      "cell_type": "markdown",
      "source": [
        "- Проверить дисбаланс данных.\n",
        "\n"
      ],
      "metadata": {
        "id": "3Z90wEW9BUii"
      }
    },
    {
      "cell_type": "markdown",
      "source": [
        "---\n"
      ],
      "metadata": {
        "id": "gxzNXpAEBXpe"
      }
    },
    {
      "cell_type": "markdown",
      "source": [
        "\n",
        "#### **2. Обработка пропущенных значений**\n"
      ],
      "metadata": {
        "id": "hi965Z6F8w7Y"
      }
    },
    {
      "cell_type": "markdown",
      "source": [
        "-\n",
        "  - Анализ количества пропусков (`df.isnull().sum()`).\n"
      ],
      "metadata": {
        "id": "tllLM5-kXP3A"
      }
    },
    {
      "cell_type": "code",
      "source": [
        "df.isnull().sum()"
      ],
      "metadata": {
        "id": "7pUJ14_gX9Wo"
      },
      "execution_count": null,
      "outputs": []
    },
    {
      "cell_type": "markdown",
      "source": [
        "-\n",
        "  - Разделение на типы пропусков: случайные или систематические (например, через визуализацию).\n"
      ],
      "metadata": {
        "id": "HXkIqwt9XSVH"
      }
    },
    {
      "cell_type": "markdown",
      "source": [
        "-\n",
        "  - Для **числовых признаков**:\n"
      ],
      "metadata": {
        "id": "s4J1nRWaXtQA"
      }
    },
    {
      "cell_type": "markdown",
      "source": [
        "-\n",
        "  -\n",
        "    - Заполнение средним/медианным значением.\n"
      ],
      "metadata": {
        "id": "Zng6_GZ3Xuin"
      }
    },
    {
      "cell_type": "markdown",
      "source": [
        "-\n",
        "  -\n",
        "    - Интерполяция для временных рядов.\n"
      ],
      "metadata": {
        "id": "1rNBhnA-Xv9A"
      }
    },
    {
      "cell_type": "markdown",
      "source": [
        "-\n",
        "  -\n",
        "    - Использование KNNImputer из `sklearn.impute`.\n"
      ],
      "metadata": {
        "id": "W3SD-W33Xw7H"
      }
    },
    {
      "cell_type": "markdown",
      "source": [
        "-\n",
        "  - Для **категориальных признаков**:\n"
      ],
      "metadata": {
        "id": "UICytZ6UXyRn"
      }
    },
    {
      "cell_type": "markdown",
      "source": [
        "-\n",
        "  -\n",
        "    - Заполнение модой.\n"
      ],
      "metadata": {
        "id": "V4ccuaNwX0k3"
      }
    },
    {
      "cell_type": "markdown",
      "source": [
        "-\n",
        "  -\n",
        "    - Создание категории \"Unknown\".\n"
      ],
      "metadata": {
        "id": "Cha49vF4X1pv"
      }
    },
    {
      "cell_type": "markdown",
      "source": [
        "-\n",
        "  -\n",
        "    - Frequency Encoding (кодирование частотой встречаемости категории).\n"
      ],
      "metadata": {
        "id": "5v9Fzjo4X2pf"
      }
    },
    {
      "cell_type": "markdown",
      "source": [
        "-\n",
        "  - Удаление столбцов с >50% пропусков.\n"
      ],
      "metadata": {
        "id": "VFoAfa86X4D3"
      }
    },
    {
      "cell_type": "markdown",
      "source": [
        "-\n",
        "  - Удаление строк с пропусками (если мало).\n"
      ],
      "metadata": {
        "id": "Ns4NqU4IX5LP"
      }
    },
    {
      "cell_type": "markdown",
      "source": [
        "-\n",
        "  - Создание индикаторных признаков для обозначения пропусков (например, `df['is_missing'] = df['column'].isnull().astype(int)`).\n",
        "\n",
        "---\n",
        "\n"
      ],
      "metadata": {
        "id": "m2kSySX3X6en"
      }
    },
    {
      "cell_type": "markdown",
      "source": [
        "#### **3. Обработка выбросов**\n"
      ],
      "metadata": {
        "id": "PAK5DWpK80mA"
      }
    },
    {
      "cell_type": "markdown",
      "source": [
        "- Визуальный анализ (`sns.boxplot`, `sns.scatterplot`).\n"
      ],
      "metadata": {
        "id": "TkDtnYPaYL0o"
      }
    },
    {
      "cell_type": "code",
      "source": [
        "fig, axes = plt.subplots(nrows=n_rows, ncols=n_cols, figsize=(5, 15), layout = 'constrained')\n",
        "for i, column in enumerate(df):\n",
        "    sns.boxplot(df[column], ax=axes[i // n_cols, i % n_cols]).set_title(column)"
      ],
      "metadata": {
        "id": "ba0uLYq0YwXZ"
      },
      "execution_count": null,
      "outputs": []
    },
    {
      "cell_type": "markdown",
      "source": [
        "- Методы обработки:\n"
      ],
      "metadata": {
        "id": "YUhAnatVYM3f"
      }
    },
    {
      "cell_type": "markdown",
      "source": [
        "-\n",
        "  - **IQR-метод**: удаление значений за пределами [Q1 - 1.5*IQR; Q3 + 1.5*IQR].\n"
      ],
      "metadata": {
        "id": "1hJnRHuTYTTI"
      }
    },
    {
      "cell_type": "markdown",
      "source": [
        "-\n",
        "  - **Z-score**: удаление значений с |Z| > 3.\n"
      ],
      "metadata": {
        "id": "bOalADAgYVlA"
      }
    },
    {
      "cell_type": "markdown",
      "source": [
        "-\n",
        "  - Логарифмирование для право-скошенных данных.\n"
      ],
      "metadata": {
        "id": "_z2Bi2-6YW4Y"
      }
    },
    {
      "cell_type": "markdown",
      "source": [
        "-\n",
        "  - Квантильное преобразование (`sklearn.preprocessing.QuantileTransformer`).\n"
      ],
      "metadata": {
        "id": "MtWXJJp5YYYY"
      }
    },
    {
      "cell_type": "code",
      "source": [
        "import numpy as np\n",
        "import pandas as pd\n",
        "from scipy import stats\n",
        "from sklearn.preprocessing import QuantileTransformer\n",
        "\n",
        "# Создаем синтетические данные с выбросами (пример)\n",
        "np.random.seed(42)\n",
        "data = df.select_dtypes(include='number').copy()\n",
        "\n",
        "# ---------------------------------------------------------\n",
        "# 1. Обработка IQR-методом\n",
        "# ---------------------------------------------------------\n",
        "def remove_outliers_iqr(df):\n",
        "    df_clean = df.copy()\n",
        "    for col in df.columns:\n",
        "        q1 = df[col].quantile(0.25)\n",
        "        q3 = df[col].quantile(0.75)\n",
        "        iqr = q3 - q1\n",
        "        lower_bound = q1 - 1.5 * iqr\n",
        "        upper_bound = q3 + 1.5 * iqr\n",
        "        df_clean = df_clean[(df_clean[col] >= lower_bound) & (df_clean[col] <= upper_bound)]\n",
        "    return df_clean\n",
        "\n",
        "data_iqr = remove_outliers_iqr(data)\n",
        "\n",
        "# ---------------------------------------------------------\n",
        "# 2. Обработка Z-score\n",
        "# ---------------------------------------------------------\n",
        "def remove_outliers_zscore(df, threshold=3):\n",
        "    df_clean = df.copy()\n",
        "    for col in df.columns:\n",
        "        z_scores = np.abs(stats.zscore(df_clean[col]))\n",
        "        df_clean = df_clean[z_scores < threshold]\n",
        "    return df_clean\n",
        "\n",
        "data_zscore = remove_outliers_zscore(data)\n",
        "\n",
        "# ---------------------------------------------------------\n",
        "# 3. Логарифмирование (для право-скошенных данных)\n",
        "# ---------------------------------------------------------\n",
        "data_log = data.copy()\n",
        "# Применяем только к положительным признакам с правосторонним смещением\n",
        "for col in data.columns:\n",
        "    if data[col].min() > 0:  # Проверка на положительные значения\n",
        "        data_log[col] = np.log1p(data[col])  # log(1 + x) для избежания нулей\n",
        "    else:\n",
        "        print(f\"Столбец {col} не может быть логарифмирован (есть отрицательные значения)\")\n",
        "\n",
        "# ---------------------------------------------------------\n",
        "# 4. Квантильное преобразование\n",
        "# ---------------------------------------------------------\n",
        "quantile_transformer = QuantileTransformer(output_distribution='normal', random_state=42)\n",
        "data_quantile = pd.DataFrame(quantile_transformer.fit_transform(data), columns=data.columns)\n",
        "\n",
        "# ---------------------------------------------------------\n",
        "# Проверка результатов\n",
        "# ---------------------------------------------------------\n",
        "print(\"Исходные данные:\\n\", data.describe())\n",
        "print(\"\\nПосле IQR-очистки:\\n\", data_iqr.describe())\n",
        "print(\"\\nПосле Z-score очистки:\\n\", data_zscore.describe())\n",
        "print(\"\\nПосле логарифмирования:\\n\", data_log.describe())\n",
        "print(\"\\nПосле квантильного преобразования:\\n\", data_quantile.describe())"
      ],
      "metadata": {
        "id": "803y5wBNZ3Uh"
      },
      "execution_count": null,
      "outputs": []
    },
    {
      "cell_type": "markdown",
      "source": [
        "- Учёт контекста задачи: иногда выбросы могут быть важными сигналами.\n",
        "- Использование методов, устойчивых к выбросам (например, модели на основе деревьев решений).\n",
        "- Проверка влияния выбросов на качество модели (например, сравнение метрик с удалением и без удаления выбросов).\n",
        "\n",
        "---\n",
        "\n"
      ],
      "metadata": {
        "id": "CCk2D4xCYZ44"
      }
    },
    {
      "cell_type": "markdown",
      "source": [
        "#### **4. Преобразование категориальных признаков**\n",
        "- **Label Encoding** для порядковых данных.\n",
        "- **One-Hot Encoding** для номинальных данных (с `drop_first=True` для уменьшения мультиколлинеарности).\n",
        "- **Target Encoding** для категорий с большим количеством уникальных значений.\n",
        "- Учёт количества уникальных значений: объединение редких категорий в одну (\"Other\").\n",
        "- Frequency Encoding (кодирование частотой встречаемости категории).\n",
        "\n",
        "---\n",
        "\n"
      ],
      "metadata": {
        "id": "Ekq0DmpZ81pp"
      }
    },
    {
      "cell_type": "markdown",
      "source": [
        "#### **5. Обработка числовых признаков**\n",
        "- **Масштабирование**:\n",
        "  - `StandardScaler` (стандартизация).\n",
        "  - `MinMaxScaler` (нормализация).\n",
        "  - `RobustScaler` (при наличии выбросов).\n",
        "- **Преобразование распределения**:\n",
        "  - Логарифмирование.\n",
        "  - Квантильное преобразование.\n",
        "  - Преобразование Бокса-Кокса.\n",
        "- **Статистические тесты**:\n",
        "  - Проверка на нормальность распределения (например, тест Шапиро-Уилка или Колмогорова-Смирнова).\n",
        "  - Проверка гипотез о равенстве средних (например, t-тест или U-тест Манна-Уитни для сравнения групп).\n",
        "- Учёт масштабирования для моделей, чувствительных к единицам измерения (например, SVM, KNN, линейная регрессия).\n",
        "\n",
        "---\n",
        "\n"
      ],
      "metadata": {
        "id": "jTXCpEcX82y4"
      }
    },
    {
      "cell_type": "markdown",
      "source": [
        "#### **6. Feature Engineering**\n",
        "- Создание новых признаков:\n",
        "  - Взаимодействия признаков (умножение, деление, соотношение).\n",
        "  - Полиномиальные признаки (`sklearn.preprocessing.PolynomialFeatures`).\n",
        "  - Групповые статистики (среднее, медиана по группам).\n",
        "- Для временных данных:\n",
        "  - Извлечение дня, месяца, года.\n",
        "  - Создание лагов и скользящих статистик.\n",
        "  - Добавление бинарных флагов (например, выходной/будний день, сезон).\n",
        "- Генерация бинарных признаков (например, флаги \"больше/меньше определённого значения\").\n",
        "\n",
        "---\n",
        "\n"
      ],
      "metadata": {
        "id": "ajWT8Emr84nu"
      }
    },
    {
      "cell_type": "markdown",
      "source": [
        "#### **7. Отбор признаков**\n",
        "- Удаление коррелирующих признаков (`df.corr()`).\n",
        "- **Проверка мультиколлинеарности с помощью VIF**:\n",
        "  - Вычисление VIF для каждого числового признака.\n",
        "  - Удаление признаков с высоким VIF (>10 обычно считается порогом).\n",
        "- Отбор с помощью:\n",
        "  - `SelectKBest` (по ANOVA F-value).\n",
        "  - Методом рекурсивного исключения (`RFE`).\n",
        "  - Важности признаков из моделей (Random Forest, XGBoost).\n",
        "  - SHAP-значений для анализа важности признаков.\n",
        "- Учёт интерпретируемости модели при выборе признаков.\n",
        "\n",
        "---\n",
        "\n"
      ],
      "metadata": {
        "id": "5mmJ5_DA86QQ"
      }
    },
    {
      "cell_type": "markdown",
      "source": [
        "#### **8. Разделение данных**\n",
        "- `train_test_split` (стратифицированное, если нужно).\n",
        "- Проверка на утечку данных (data leakage): признаки не должны зависеть от целевой переменной в тестовой выборке.\n",
        "- Стратификация по нескольким признакам (если применимо).\n",
        "- Для временных рядов — хронологическое разделение.\n",
        "\n",
        "---\n",
        "\n"
      ],
      "metadata": {
        "id": "y81F4aQn88GS"
      }
    },
    {
      "cell_type": "markdown",
      "source": [
        "#### **9. Дополнительные шаги (опционально)**\n",
        "- **PCA** или **t-SNE** для уменьшения размерности.\n",
        "- **LDA** (Linear Discriminant Analysis) для регрессии.\n",
        "- **Балансировка данных** (если целевая переменная неравномерна).\n",
        "- **Кросс-валидация** для настройки предобработки (`Pipeline` + `GridSearchCV`).\n",
        "- Настройка гиперпараметров трансформеров (например, степень полиномиальных признаков).\n",
        "\n",
        "---\n",
        "\n"
      ],
      "metadata": {
        "id": "-O_K7H3g899G"
      }
    },
    {
      "cell_type": "markdown",
      "source": [
        "#### **10. Финализация**\n",
        "- Сохранение предобработанных данных (`to_csv`, `to_pickle`).\n",
        "- Экспорт трансформеров (`pickle`, `joblib`).\n",
        "- Сохранение конфигурации предобработки (например, параметры трансформеров) для воспроизводимости.\n",
        "- Проверка совместимости предобработанных данных с моделью (например, отсутствие NaN или Inf).\n",
        "- Тестирование конвейера на новых данных (например, проверка работы Pipeline на отложенной выборке).\n",
        "\n",
        "---\n",
        "\n"
      ],
      "metadata": {
        "id": "xsbBt9Xm8_78"
      }
    },
    {
      "cell_type": "markdown",
      "source": [
        "### **Дополнительные разделы: Статистический анализ и проверка гипотез**\n",
        "\n"
      ],
      "metadata": {
        "id": "0618nTS69Bn1"
      }
    },
    {
      "cell_type": "markdown",
      "source": [
        "#### **11. Статистический анализ**\n",
        "- **Тесты на нормальность**:\n",
        "  - Тест Шапиро-Уилка (`scipy.stats.shapiro`).\n",
        "  - Тест Колмогорова-Смирнова (`scipy.stats.kstest`).\n",
        "  - Визуализация QQ-графика (`statsmodels.api.qqplot`).\n",
        "- **Тесты на гомоскедастичность** (равенство дисперсий):\n",
        "  - Тест Бройша-Пагана (`statsmodels.stats.diagnostic.het_breuschpagan`).\n",
        "  - Тест Уайта (`statsmodels.stats.diagnostic.het_white`).\n",
        "- **Тесты на линейную зависимость**:\n",
        "  - Корреляция Пирсона для линейных связей.\n",
        "  - Корреляция Спирмена для монотонных связей.\n",
        "  - Корреляция Кендалла для порядковых данных.\n",
        "\n"
      ],
      "metadata": {
        "id": "c-fkZR5a9C6z"
      }
    },
    {
      "cell_type": "markdown",
      "source": [
        "#### **12. Проверка гипотез**\n",
        "- **Гипотеза о равенстве средних**:\n",
        "  - t-тест для нормально распределённых данных.\n",
        "  - U-тест Манна-Уитни для непараметрических данных.\n",
        "- **Гипотеза о равенстве распределений**:\n",
        "  - Критерий Колмогорова-Смирнова.\n",
        "  - Критерий хи-квадрат для категориальных данных.\n",
        "- **Анализ влияния категориальных признаков**:\n",
        "  - ANOVA (для проверки влияния категориальных признаков на числовую целевую переменную).\n",
        "  - Критерий Краскела-Уоллиса (непараметрический аналог ANOVA).\n"
      ],
      "metadata": {
        "id": "k0v-MwkA9EFn"
      }
    },
    {
      "cell_type": "code",
      "source": [],
      "metadata": {
        "id": "GZ1Ecr9fdJi7"
      },
      "execution_count": null,
      "outputs": []
    }
  ]
}